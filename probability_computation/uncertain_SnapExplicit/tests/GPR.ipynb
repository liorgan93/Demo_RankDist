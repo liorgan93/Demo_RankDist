{
 "cells": [
  {
   "cell_type": "code",
   "execution_count": 1,
   "metadata": {},
   "outputs": [
    {
     "name": "stdout",
     "output_type": "stream",
     "text": [
      "MovieLens data prepared: 6028 users, 3125 items.\n",
      "502831 train, 52827 validation and 18688 test interactions.\n"
     ]
    }
   ],
   "source": [
    "import os\n",
    "import sys\n",
    "sys.path.append('..')\n",
    "\n",
    "import torch\n",
    "import pickle\n",
    "import optuna\n",
    "import numpy as np\n",
    "import pandas as pd\n",
    "\n",
    "from uncertain.BPR import bprMF, biasMF, TwoWayMF, bprGMF, bprMLP\n",
    "from uncertain.BPR import ABPR, GPR\n",
    "\n",
    "from uncertain.utils.data import Data\n",
    "from uncertain.utils.training import train\n",
    "from uncertain.utils.evaluation_implicit import test\n",
    "\n",
    "from matplotlib import pyplot as plt\n",
    "\n",
    "os.chdir('ML_implicit')\n",
    "\n",
    "if os.path.isfile('data.pkl'):\n",
    "    with open('data.pkl', 'rb') as f:\n",
    "        data = pickle.load(f)\n",
    "    print(f'MovieLens data prepared: {data.n_user} users, {data.n_item} items.')\n",
    "    print(f'{len(data.train)} train, {len(data.val)} validation and {len(data.test)} test interactions.')\n",
    "    data.batch_size = int(1e3)\n",
    "else:\n",
    "    data = pd.read_csv('data.csv')\n",
    "    data.columns = ['user', 'item', 'score', 'timestamps']\n",
    "    data = Data(data, implicit=True, users_on_test=1000)\n",
    "    with open('data.pkl', 'wb') as f:\n",
    "        pickle.dump(data, f, protocol=4)\n",
    "        \n",
    "def unc_distribution(model):\n",
    "    f, ax = plt.subplots(ncols=2)\n",
    "    preds = model.predict(data.rand['users'], data.rand['items'])\n",
    "    ax[0].hist(preds[1])\n",
    "    ax[0].set_xlabel('Uncertainty')\n",
    "    ax[0].set_ylabel('Density')\n",
    "    ax[1].plot(preds[0], preds[1], 'o')\n",
    "    ax[1].set_xlabel('Score')\n",
    "    ax[1].set_ylabel('Uncertainty')\n",
    "    f.tight_layout()"
   ]
  },
  {
   "cell_type": "code",
   "execution_count": 1,
   "metadata": {},
   "outputs": [
    {
     "name": "stdout",
     "output_type": "stream",
     "text": [
      "Data prepared: 21716 users, 52073 items.\n",
      "489513 train, 46533 validation and 4281 test interactions.\n"
     ]
    }
   ],
   "source": [
    "import os\n",
    "import sys\n",
    "sys.path.append('..')\n",
    "\n",
    "import torch\n",
    "import pickle\n",
    "import optuna\n",
    "import numpy as np\n",
    "import pandas as pd\n",
    "\n",
    "from uncertain.BPR import bprMF, biasMF, TwoWayMF, bprGMF, bprMLP\n",
    "from uncertain.BPR import ABPR, GPR\n",
    "\n",
    "from uncertain.utils.data import Data\n",
    "from uncertain.utils.training import train\n",
    "from uncertain.utils.evaluation_implicit import test\n",
    "\n",
    "from matplotlib import pyplot as plt\n",
    "\n",
    "os.chdir('RetailRocket')\n",
    "\n",
    "if os.path.isfile('data.pkl'):\n",
    "    with open('data.pkl', 'rb') as f:\n",
    "        data = pickle.load(f)\n",
    "    print(f'Data prepared: {data.n_user} users, {data.n_item} items.')\n",
    "    print(f'{len(data.train)} train, {len(data.val)} validation and {len(data.test)} test interactions.')\n",
    "    data.batch_size = int(1e3)\n",
    "else:\n",
    "    data = pd.read_csv('events.csv')[['visitorid', 'itemid', 'timestamp']]\n",
    "    data.columns = ['user', 'item', 'timestamps']\n",
    "    data = Data(data, implicit=True, users_on_test=1000, distances=False)\n",
    "    with open('data.pkl', 'wb') as f:\n",
    "        pickle.dump(data, f, protocol=4)"
   ]
  },
  {
   "cell_type": "markdown",
   "metadata": {},
   "source": [
    "# Baseline (BPR)"
   ]
  },
  {
   "cell_type": "code",
   "execution_count": 3,
   "metadata": {},
   "outputs": [
    {
     "name": "stderr",
     "output_type": "stream",
     "text": [
      "GPU available: True, used: True\n",
      "TPU available: False, using: 0 TPU cores\n",
      "IPU available: False, using: 0 IPUs\n",
      "LOCAL_RANK: 0 - CUDA_VISIBLE_DEVICES: [0]\n",
      "\n",
      "  | Name            | Type      | Params\n",
      "----------------------------------------------\n",
      "0 | user_embeddings | Embedding | 831 K \n",
      "1 | item_embeddings | Embedding | 431 K \n",
      "2 | rho_activation  | Softplus  | 0     \n",
      "----------------------------------------------\n",
      "1.3 M     Trainable params\n",
      "0         Non-trainable params\n",
      "1.3 M     Total params\n",
      "5.052     Total estimated model params size (MB)\n"
     ]
    },
    {
     "data": {
      "application/vnd.jupyter.widget-view+json": {
       "model_id": "",
       "version_major": 2,
       "version_minor": 0
      },
      "text/plain": [
       "Validation sanity check: 0it [00:00, ?it/s]"
      ]
     },
     "metadata": {},
     "output_type": "display_data"
    },
    {
     "data": {
      "application/vnd.jupyter.widget-view+json": {
       "model_id": "3a186b5af6d842a4954ce979db75c617",
       "version_major": 2,
       "version_minor": 0
      },
      "text/plain": [
       "Training: 0it [00:00, ?it/s]"
      ]
     },
     "metadata": {},
     "output_type": "display_data"
    },
    {
     "name": "stderr",
     "output_type": "stream",
     "text": [
      "\u001b[32m[I 2022-02-25 11:11:00,306]\u001b[0m Trial 2 finished with value: 0.5564175844192505 and parameters: {'dim': 138, 'lr': 5.511283960383206, 'wd': 9.27976214149337e-05}. Best is trial 2 with value: 0.5564175844192505.\u001b[0m\n",
      "GPU available: True, used: True\n",
      "TPU available: False, using: 0 TPU cores\n",
      "IPU available: False, using: 0 IPUs\n",
      "/home/vcoscrato/.local/lib/python3.8/site-packages/pytorch_lightning/core/datamodule.py:469: LightningDeprecationWarning: DataModule.setup has already been called, so it will not be called again. In v1.6 this behavior will change to always call DataModule.setup.\n",
      "  rank_zero_deprecation(\n",
      "LOCAL_RANK: 0 - CUDA_VISIBLE_DEVICES: [0]\n",
      "\n",
      "  | Name            | Type      | Params\n",
      "----------------------------------------------\n",
      "0 | user_embeddings | Embedding | 518 K \n",
      "1 | item_embeddings | Embedding | 268 K \n",
      "2 | rho_activation  | Softplus  | 0     \n",
      "----------------------------------------------\n",
      "787 K     Trainable params\n",
      "0         Non-trainable params\n",
      "787 K     Total params\n",
      "3.149     Total estimated model params size (MB)\n",
      "/home/vcoscrato/.local/lib/python3.8/site-packages/pytorch_lightning/callbacks/model_checkpoint.py:623: UserWarning: Checkpoint directory /home/vcoscrato/Documents/RecSys/MF/tests/ML_implicit/checkpoints/baseline exists and is not empty.\n",
      "  rank_zero_warn(f\"Checkpoint directory {dirpath} exists and is not empty.\")\n"
     ]
    },
    {
     "data": {
      "application/vnd.jupyter.widget-view+json": {
       "model_id": "",
       "version_major": 2,
       "version_minor": 0
      },
      "text/plain": [
       "Validation sanity check: 0it [00:00, ?it/s]"
      ]
     },
     "metadata": {},
     "output_type": "display_data"
    },
    {
     "data": {
      "application/vnd.jupyter.widget-view+json": {
       "model_id": "d895c11fa6094ceb972844c46f8dec69",
       "version_major": 2,
       "version_minor": 0
      },
      "text/plain": [
       "Training: 0it [00:00, ?it/s]"
      ]
     },
     "metadata": {},
     "output_type": "display_data"
    },
    {
     "name": "stderr",
     "output_type": "stream",
     "text": [
      "/home/vcoscrato/.local/lib/python3.8/site-packages/pytorch_lightning/core/datamodule.py:469: LightningDeprecationWarning: DataModule.teardown has already been called, so it will not be called again. In v1.6 this behavior will change to always call DataModule.teardown.\n",
      "  rank_zero_deprecation(\n",
      "\u001b[32m[I 2022-02-25 11:11:32,420]\u001b[0m Trial 3 finished with value: 0.5223509073257446 and parameters: {'dim': 86, 'lr': 2.813279910336585, 'wd': 6.297855133425414e-05}. Best is trial 3 with value: 0.5223509073257446.\u001b[0m\n"
     ]
    }
   ],
   "source": [
    "def objective(trial):\n",
    "    \n",
    "    # Parameter setup\n",
    "    dim = trial.suggest_int('dim', 20, 200)\n",
    "    lr = trial.suggest_float('lr', 0.1, 10)\n",
    "    wd = trial.suggest_float('wd', 0.000001, 0.0001)\n",
    "    \n",
    "    # Train model\n",
    "    model = bprMF(data.n_user, data.n_item, embedding_dim=dim, lr=lr, weight_decay=wd)\n",
    "    train(model, data, path='checkpoints/baseline', name=f'trial={len(study.trials)}-dim={dim}-wd={wd}-lr={lr}')\n",
    "    return model.trainer.callback_metrics['val_loss']\n",
    "\n",
    "file = 'tunning/baseline.pkl'\n",
    "if os.path.exists(file):\n",
    "    with open(file, 'rb') as f:\n",
    "        study = pickle.load(f)\n",
    "else:\n",
    "    study = optuna.create_study(direction='minimize')\n",
    "study.optimize(objective, n_trials=2)\n",
    "with open(file, 'wb') as f:\n",
    "    pickle.dump(study, f, protocol=4)"
   ]
  },
  {
   "cell_type": "code",
   "execution_count": 7,
   "metadata": {},
   "outputs": [
    {
     "data": {
      "text/html": [
       "<div>\n",
       "<style scoped>\n",
       "    .dataframe tbody tr th:only-of-type {\n",
       "        vertical-align: middle;\n",
       "    }\n",
       "\n",
       "    .dataframe tbody tr th {\n",
       "        vertical-align: top;\n",
       "    }\n",
       "\n",
       "    .dataframe thead th {\n",
       "        text-align: right;\n",
       "    }\n",
       "</style>\n",
       "<table border=\"1\" class=\"dataframe\">\n",
       "  <thead>\n",
       "    <tr style=\"text-align: right;\">\n",
       "      <th></th>\n",
       "      <th>number</th>\n",
       "      <th>value</th>\n",
       "      <th>datetime_start</th>\n",
       "      <th>datetime_complete</th>\n",
       "      <th>duration</th>\n",
       "      <th>params_dim</th>\n",
       "      <th>params_lr</th>\n",
       "      <th>params_wd</th>\n",
       "      <th>state</th>\n",
       "    </tr>\n",
       "  </thead>\n",
       "  <tbody>\n",
       "    <tr>\n",
       "      <th>3</th>\n",
       "      <td>3</td>\n",
       "      <td>0.522351</td>\n",
       "      <td>2022-02-25 11:11:00.306935</td>\n",
       "      <td>2022-02-25 11:11:32.420639</td>\n",
       "      <td>0 days 00:00:32.113704</td>\n",
       "      <td>86</td>\n",
       "      <td>2.813280</td>\n",
       "      <td>0.000063</td>\n",
       "      <td>COMPLETE</td>\n",
       "    </tr>\n",
       "    <tr>\n",
       "      <th>2</th>\n",
       "      <td>2</td>\n",
       "      <td>0.556418</td>\n",
       "      <td>2022-02-25 11:10:22.794381</td>\n",
       "      <td>2022-02-25 11:11:00.306219</td>\n",
       "      <td>0 days 00:00:37.511838</td>\n",
       "      <td>138</td>\n",
       "      <td>5.511284</td>\n",
       "      <td>0.000093</td>\n",
       "      <td>COMPLETE</td>\n",
       "    </tr>\n",
       "    <tr>\n",
       "      <th>0</th>\n",
       "      <td>0</td>\n",
       "      <td>0.630366</td>\n",
       "      <td>2022-02-25 11:00:55.690843</td>\n",
       "      <td>2022-02-25 11:01:45.793772</td>\n",
       "      <td>0 days 00:00:50.102929</td>\n",
       "      <td>149</td>\n",
       "      <td>2.039424</td>\n",
       "      <td>0.000171</td>\n",
       "      <td>COMPLETE</td>\n",
       "    </tr>\n",
       "    <tr>\n",
       "      <th>1</th>\n",
       "      <td>1</td>\n",
       "      <td>0.693147</td>\n",
       "      <td>2022-02-25 11:01:45.794497</td>\n",
       "      <td>2022-02-25 11:02:11.256217</td>\n",
       "      <td>0 days 00:00:25.461720</td>\n",
       "      <td>55</td>\n",
       "      <td>6.781368</td>\n",
       "      <td>0.000283</td>\n",
       "      <td>COMPLETE</td>\n",
       "    </tr>\n",
       "  </tbody>\n",
       "</table>\n",
       "</div>"
      ],
      "text/plain": [
       "   number     value             datetime_start          datetime_complete  \\\n",
       "3       3  0.522351 2022-02-25 11:11:00.306935 2022-02-25 11:11:32.420639   \n",
       "2       2  0.556418 2022-02-25 11:10:22.794381 2022-02-25 11:11:00.306219   \n",
       "0       0  0.630366 2022-02-25 11:00:55.690843 2022-02-25 11:01:45.793772   \n",
       "1       1  0.693147 2022-02-25 11:01:45.794497 2022-02-25 11:02:11.256217   \n",
       "\n",
       "                duration  params_dim  params_lr  params_wd     state  \n",
       "3 0 days 00:00:32.113704          86   2.813280   0.000063  COMPLETE  \n",
       "2 0 days 00:00:37.511838         138   5.511284   0.000093  COMPLETE  \n",
       "0 0 days 00:00:50.102929         149   2.039424   0.000171  COMPLETE  \n",
       "1 0 days 00:00:25.461720          55   6.781368   0.000283  COMPLETE  "
      ]
     },
     "execution_count": 7,
     "metadata": {},
     "output_type": "execute_result"
    }
   ],
   "source": [
    "study.trials_dataframe().sort_values('value')"
   ]
  },
  {
   "cell_type": "code",
   "execution_count": 2,
   "metadata": {},
   "outputs": [
    {
     "name": "stderr",
     "output_type": "stream",
     "text": [
      "GPU available: True, used: True\n",
      "TPU available: False, using: 0 TPU cores\n",
      "IPU available: False, using: 0 IPUs\n",
      "LOCAL_RANK: 0 - CUDA_VISIBLE_DEVICES: [0]\n",
      "\n",
      "  | Name            | Type      | Params\n",
      "----------------------------------------------\n",
      "0 | user_embeddings | Embedding | 301 K \n",
      "1 | item_embeddings | Embedding | 156 K \n",
      "2 | rho_activation  | Softplus  | 0     \n",
      "----------------------------------------------\n",
      "457 K     Trainable params\n",
      "0         Non-trainable params\n",
      "457 K     Total params\n",
      "1.831     Total estimated model params size (MB)\n",
      "/home/vcoscrato/.local/lib/python3.8/site-packages/pytorch_lightning/callbacks/model_checkpoint.py:623: UserWarning: Checkpoint directory /home/vcoscrato/Documents/RecSys/MF/tests/ML_implicit/checkpoints/baseline exists and is not empty.\n",
      "  rank_zero_warn(f\"Checkpoint directory {dirpath} exists and is not empty.\")\n"
     ]
    },
    {
     "data": {
      "application/vnd.jupyter.widget-view+json": {
       "model_id": "",
       "version_major": 2,
       "version_minor": 0
      },
      "text/plain": [
       "Validation sanity check: 0it [00:00, ?it/s]"
      ]
     },
     "metadata": {},
     "output_type": "display_data"
    },
    {
     "data": {
      "application/vnd.jupyter.widget-view+json": {
       "model_id": "e796acfc26e748eea5d432665987326f",
       "version_major": 2,
       "version_minor": 0
      },
      "text/plain": [
       "Training: 0it [00:00, ?it/s]"
      ]
     },
     "metadata": {},
     "output_type": "display_data"
    },
    {
     "name": "stderr",
     "output_type": "stream",
     "text": [
      "Trainer was signaled to stop but required minimum epochs (10) or minimum steps (None) has not been met. Training will continue...\n",
      "Trainer was signaled to stop but required minimum epochs (10) or minimum steps (None) has not been met. Training will continue...\n"
     ]
    }
   ],
   "source": [
    "files = {file: float(file.split('loss=')[1][:-5]) for file in os.listdir('checkpoints/baseline')}\n",
    "model = bprMF(data.n_user, data.n_item, embedding_dim=1, lr=0, weight_decay=0)\n",
    "model = model.load_from_checkpoint(os.path.join('checkpoints/baseline', min(files, key=files.get)))\n",
    "a = train(model, data, path='checkpoints/baseline', name=f'dim={50}-wd={0}-lr={1}')"
   ]
  },
  {
   "cell_type": "code",
   "execution_count": 13,
   "metadata": {},
   "outputs": [
    {
     "data": {
      "text/plain": [
       "{'train_loss': tensor(0.1896), 'val_loss': tensor(0.3956)}"
      ]
     },
     "execution_count": 13,
     "metadata": {},
     "output_type": "execute_result"
    }
   ],
   "source": []
  },
  {
   "cell_type": "markdown",
   "metadata": {},
   "source": [
    "# AdaptiveBPR"
   ]
  },
  {
   "cell_type": "code",
   "execution_count": 3,
   "metadata": {},
   "outputs": [
    {
     "name": "stderr",
     "output_type": "stream",
     "text": [
      "GPU available: True, used: True\n",
      "TPU available: False, using: 0 TPU cores\n",
      "IPU available: False, using: 0 IPUs\n",
      "/home/vcoscrato/.local/lib/python3.8/site-packages/pytorch_lightning/core/datamodule.py:469: LightningDeprecationWarning: DataModule.setup has already been called, so it will not be called again. In v1.6 this behavior will change to always call DataModule.setup.\n",
      "  rank_zero_deprecation(\n",
      "LOCAL_RANK: 0 - CUDA_VISIBLE_DEVICES: [0]\n",
      "\n",
      "  | Name            | Type      | Params\n",
      "----------------------------------------------\n",
      "0 | user_embeddings | Embedding | 301 K \n",
      "1 | item_embeddings | Embedding | 156 K \n",
      "2 | user_bias       | Embedding | 6.0 K \n",
      "3 | item_bias       | Embedding | 3.1 K \n",
      "4 | rho_activation  | Softplus  | 0     \n",
      "----------------------------------------------\n",
      "466 K     Trainable params\n",
      "0         Non-trainable params\n",
      "466 K     Total params\n",
      "1.867     Total estimated model params size (MB)\n"
     ]
    },
    {
     "data": {
      "application/vnd.jupyter.widget-view+json": {
       "model_id": "",
       "version_major": 2,
       "version_minor": 0
      },
      "text/plain": [
       "Validation sanity check: 0it [00:00, ?it/s]"
      ]
     },
     "metadata": {},
     "output_type": "display_data"
    },
    {
     "data": {
      "application/vnd.jupyter.widget-view+json": {
       "model_id": "20c8b4cb189c42408e573f744a842801",
       "version_major": 2,
       "version_minor": 0
      },
      "text/plain": [
       "Training: 0it [00:00, ?it/s]"
      ]
     },
     "metadata": {},
     "output_type": "display_data"
    },
    {
     "name": "stderr",
     "output_type": "stream",
     "text": [
      "/home/vcoscrato/.local/lib/python3.8/site-packages/pytorch_lightning/core/datamodule.py:469: LightningDeprecationWarning: DataModule.teardown has already been called, so it will not be called again. In v1.6 this behavior will change to always call DataModule.teardown.\n",
      "  rank_zero_deprecation(\n"
     ]
    },
    {
     "data": {
      "application/vnd.jupyter.widget-view+json": {
       "model_id": "af2da27d235a4fafab16118414dda5a3",
       "version_major": 2,
       "version_minor": 0
      },
      "text/plain": [
       "  0%|          | 0/1000 [00:00<?, ?it/s]"
      ]
     },
     "metadata": {},
     "output_type": "display_data"
    },
    {
     "data": {
      "image/png": "[encoded data removed]",
      "text/plain": [
       "<Figure size 432x288 with 2 Axes>"
      ]
     },
     "metadata": {
      "needs_background": "light"
     },
     "output_type": "display_data"
    }
   ],
   "source": [
    "for dim in [50]:\n",
    "    for wd in [0]:\n",
    "        for lr in [5]:\n",
    "            model = biasMF(data.n_user, data.n_item, embedding_dim=dim, lr=lr, weight_decay=wd, loss=ABPR(log_scale=False))\n",
    "            train(model, data, path='checkpoints/ABPR', name=f'dim={dim}-wd={wd}-lr={lr}')\n",
    "\n",
    "files = {file: float(file.split('loss=')[1][:-5]) for file in os.listdir('checkpoints/ABPR')}\n",
    "model = biasMF(data.n_user, data.n_item, embedding_dim=1, lr=0, weight_decay=0, loss=ABPR(log_scale=False))\n",
    "model = model.load_from_checkpoint(os.path.join('checkpoints/ABPR', min(files, key=files.get)))\n",
    "test_implicit(model, data, name='ABPR', max_k=10, use_baseline=False)\n",
    "unc_distribution(model)"
   ]
  },
  {
   "cell_type": "markdown",
   "metadata": {},
   "source": [
    "## Log scale"
   ]
  },
  {
   "cell_type": "code",
   "execution_count": 4,
   "metadata": {},
   "outputs": [
    {
     "name": "stderr",
     "output_type": "stream",
     "text": [
      "GPU available: True, used: True\n",
      "TPU available: False, using: 0 TPU cores\n",
      "IPU available: False, using: 0 IPUs\n",
      "/home/vcoscrato/.local/lib/python3.8/site-packages/pytorch_lightning/core/datamodule.py:469: LightningDeprecationWarning: DataModule.setup has already been called, so it will not be called again. In v1.6 this behavior will change to always call DataModule.setup.\n",
      "  rank_zero_deprecation(\n",
      "LOCAL_RANK: 0 - CUDA_VISIBLE_DEVICES: [0]\n",
      "\n",
      "  | Name            | Type      | Params\n",
      "----------------------------------------------\n",
      "0 | user_embeddings | Embedding | 301 K \n",
      "1 | item_embeddings | Embedding | 156 K \n",
      "2 | user_bias       | Embedding | 6.0 K \n",
      "3 | item_bias       | Embedding | 3.1 K \n",
      "4 | rho_activation  | Softplus  | 0     \n",
      "----------------------------------------------\n",
      "466 K     Trainable params\n",
      "0         Non-trainable params\n",
      "466 K     Total params\n",
      "1.867     Total estimated model params size (MB)\n"
     ]
    },
    {
     "data": {
      "application/vnd.jupyter.widget-view+json": {
       "model_id": "",
       "version_major": 2,
       "version_minor": 0
      },
      "text/plain": [
       "Validation sanity check: 0it [00:00, ?it/s]"
      ]
     },
     "metadata": {},
     "output_type": "display_data"
    },
    {
     "data": {
      "application/vnd.jupyter.widget-view+json": {
       "model_id": "826626df3a584c80bd91c424d5decbd2",
       "version_major": 2,
       "version_minor": 0
      },
      "text/plain": [
       "Training: 0it [00:00, ?it/s]"
      ]
     },
     "metadata": {},
     "output_type": "display_data"
    },
    {
     "name": "stderr",
     "output_type": "stream",
     "text": [
      "Trainer was signaled to stop but required minimum epochs (20) or minimum steps (None) has not been met. Training will continue...\n",
      "Trainer was signaled to stop but required minimum epochs (20) or minimum steps (None) has not been met. Training will continue...\n",
      "Trainer was signaled to stop but required minimum epochs (20) or minimum steps (None) has not been met. Training will continue...\n",
      "Trainer was signaled to stop but required minimum epochs (20) or minimum steps (None) has not been met. Training will continue...\n",
      "Trainer was signaled to stop but required minimum epochs (20) or minimum steps (None) has not been met. Training will continue...\n",
      "Trainer was signaled to stop but required minimum epochs (20) or minimum steps (None) has not been met. Training will continue...\n",
      "/home/vcoscrato/.local/lib/python3.8/site-packages/pytorch_lightning/core/datamodule.py:469: LightningDeprecationWarning: DataModule.teardown has already been called, so it will not be called again. In v1.6 this behavior will change to always call DataModule.teardown.\n",
      "  rank_zero_deprecation(\n"
     ]
    },
    {
     "data": {
      "application/vnd.jupyter.widget-view+json": {
       "model_id": "b620898ca760480f8e28d51a8978fd91",
       "version_major": 2,
       "version_minor": 0
      },
      "text/plain": [
       "  0%|          | 0/1000 [00:00<?, ?it/s]"
      ]
     },
     "metadata": {},
     "output_type": "display_data"
    },
    {
     "data": {
      "image/png": "[encoded data removed]",
      "text/plain": [
       "<Figure size 432x288 with 2 Axes>"
      ]
     },
     "metadata": {
      "needs_background": "light"
     },
     "output_type": "display_data"
    }
   ],
   "source": [
    "for dim in [50]:\n",
    "    for wd in [0]:\n",
    "        for lr in [1]:\n",
    "            model = biasMF(data.n_user, data.n_item, embedding_dim=dim, lr=lr, weight_decay=wd, loss=ABPR(log_scale=True))\n",
    "            train(model, data, path='checkpoints/ABPRlog', name=f'dim={dim}-wd={wd}-lr={lr}')\n",
    "\n",
    "files = {file: float(file.split('loss=')[1][:-5]) for file in os.listdir('checkpoints/ABPRlog')}\n",
    "model = biasMF(data.n_user, data.n_item, embedding_dim=1, lr=0, weight_decay=0, loss=ABPR(log_scale=True))\n",
    "model = model.load_from_checkpoint(os.path.join('checkpoints/ABPRlog', min(files, key=files.get)))\n",
    "test_implicit(model, data, name='ABPRlog', max_k=10, use_baseline=False)\n",
    "unc_distribution(model)"
   ]
  },
  {
   "cell_type": "markdown",
   "metadata": {},
   "source": [
    "# Gaussian Personalized Ranking (GPR)"
   ]
  },
  {
   "cell_type": "code",
   "execution_count": 5,
   "metadata": {},
   "outputs": [
    {
     "name": "stderr",
     "output_type": "stream",
     "text": [
      "GPU available: True, used: True\n",
      "TPU available: False, using: 0 TPU cores\n",
      "IPU available: False, using: 0 IPUs\n",
      "/home/vcoscrato/.local/lib/python3.8/site-packages/pytorch_lightning/core/datamodule.py:469: LightningDeprecationWarning: DataModule.setup has already been called, so it will not be called again. In v1.6 this behavior will change to always call DataModule.setup.\n",
      "  rank_zero_deprecation(\n",
      "LOCAL_RANK: 0 - CUDA_VISIBLE_DEVICES: [0]\n",
      "\n",
      "  | Name            | Type      | Params\n",
      "----------------------------------------------\n",
      "0 | user_embeddings | Embedding | 301 K \n",
      "1 | item_embeddings | Embedding | 156 K \n",
      "2 | user_bias       | Embedding | 6.0 K \n",
      "3 | item_bias       | Embedding | 3.1 K \n",
      "4 | rho_activation  | Softplus  | 0     \n",
      "----------------------------------------------\n",
      "466 K     Trainable params\n",
      "0         Non-trainable params\n",
      "466 K     Total params\n",
      "1.867     Total estimated model params size (MB)\n"
     ]
    },
    {
     "data": {
      "application/vnd.jupyter.widget-view+json": {
       "model_id": "",
       "version_major": 2,
       "version_minor": 0
      },
      "text/plain": [
       "Validation sanity check: 0it [00:00, ?it/s]"
      ]
     },
     "metadata": {},
     "output_type": "display_data"
    },
    {
     "data": {
      "application/vnd.jupyter.widget-view+json": {
       "model_id": "ebd42fd01eec4da8b0fe034466e307b3",
       "version_major": 2,
       "version_minor": 0
      },
      "text/plain": [
       "Training: 0it [00:00, ?it/s]"
      ]
     },
     "metadata": {},
     "output_type": "display_data"
    },
    {
     "name": "stderr",
     "output_type": "stream",
     "text": [
      "/home/vcoscrato/.local/lib/python3.8/site-packages/pytorch_lightning/core/datamodule.py:469: LightningDeprecationWarning: DataModule.teardown has already been called, so it will not be called again. In v1.6 this behavior will change to always call DataModule.teardown.\n",
      "  rank_zero_deprecation(\n"
     ]
    },
    {
     "data": {
      "application/vnd.jupyter.widget-view+json": {
       "model_id": "70f53aef8096479f80c2d6c2d0fec9cc",
       "version_major": 2,
       "version_minor": 0
      },
      "text/plain": [
       "  0%|          | 0/1000 [00:00<?, ?it/s]"
      ]
     },
     "metadata": {},
     "output_type": "display_data"
    },
    {
     "data": {
      "image/png": "[encoded data removed]",
      "text/plain": [
       "<Figure size 432x288 with 2 Axes>"
      ]
     },
     "metadata": {
      "needs_background": "light"
     },
     "output_type": "display_data"
    }
   ],
   "source": [
    "for dim in [50]:\n",
    "    for wd in [0]:\n",
    "        for lr in [5]:\n",
    "            model = biasMF(data.n_user, data.n_item, embedding_dim=dim, lr=lr, weight_decay=wd, loss=GPR(log_scale=False))\n",
    "            train(model, data, path='checkpoints/GPR', name=f'dim={dim}-wd={wd}-lr={lr}')\n",
    "\n",
    "files = {file: float(file.split('loss=')[1][:-5]) for file in os.listdir('checkpoints/GPR')}\n",
    "model = biasMF(data.n_user, data.n_item, embedding_dim=1, lr=0, weight_decay=0, loss=GPR(log_scale=False))\n",
    "model = model.load_from_checkpoint(os.path.join('checkpoints/GPR', min(files, key=files.get)))\n",
    "test_implicit(model, data, name='GPR', max_k=10, use_baseline=False)\n",
    "unc_distribution(model)"
   ]
  },
  {
   "cell_type": "markdown",
   "metadata": {},
   "source": [
    "## Log scale"
   ]
  },
  {
   "cell_type": "code",
   "execution_count": 6,
   "metadata": {},
   "outputs": [
    {
     "name": "stderr",
     "output_type": "stream",
     "text": [
      "GPU available: True, used: True\n",
      "TPU available: False, using: 0 TPU cores\n",
      "IPU available: False, using: 0 IPUs\n",
      "/home/vcoscrato/.local/lib/python3.8/site-packages/pytorch_lightning/core/datamodule.py:469: LightningDeprecationWarning: DataModule.setup has already been called, so it will not be called again. In v1.6 this behavior will change to always call DataModule.setup.\n",
      "  rank_zero_deprecation(\n",
      "LOCAL_RANK: 0 - CUDA_VISIBLE_DEVICES: [0]\n",
      "\n",
      "  | Name            | Type      | Params\n",
      "----------------------------------------------\n",
      "0 | user_embeddings | Embedding | 301 K \n",
      "1 | item_embeddings | Embedding | 156 K \n",
      "2 | user_bias       | Embedding | 6.0 K \n",
      "3 | item_bias       | Embedding | 3.1 K \n",
      "4 | rho_activation  | Softplus  | 0     \n",
      "----------------------------------------------\n",
      "466 K     Trainable params\n",
      "0         Non-trainable params\n",
      "466 K     Total params\n",
      "1.867     Total estimated model params size (MB)\n"
     ]
    },
    {
     "data": {
      "application/vnd.jupyter.widget-view+json": {
       "model_id": "",
       "version_major": 2,
       "version_minor": 0
      },
      "text/plain": [
       "Validation sanity check: 0it [00:00, ?it/s]"
      ]
     },
     "metadata": {},
     "output_type": "display_data"
    },
    {
     "data": {
      "application/vnd.jupyter.widget-view+json": {
       "model_id": "89ae6549871e428b884a96c6af8a4c9f",
       "version_major": 2,
       "version_minor": 0
      },
      "text/plain": [
       "Training: 0it [00:00, ?it/s]"
      ]
     },
     "metadata": {},
     "output_type": "display_data"
    },
    {
     "name": "stderr",
     "output_type": "stream",
     "text": [
      "/home/vcoscrato/.local/lib/python3.8/site-packages/pytorch_lightning/core/datamodule.py:469: LightningDeprecationWarning: DataModule.teardown has already been called, so it will not be called again. In v1.6 this behavior will change to always call DataModule.teardown.\n",
      "  rank_zero_deprecation(\n"
     ]
    },
    {
     "data": {
      "application/vnd.jupyter.widget-view+json": {
       "model_id": "7d32cdba5e644d6992566ecf7d9c8d20",
       "version_major": 2,
       "version_minor": 0
      },
      "text/plain": [
       "  0%|          | 0/1000 [00:00<?, ?it/s]"
      ]
     },
     "metadata": {},
     "output_type": "display_data"
    },
    {
     "data": {
      "image/png": "[encoded data removed]",
      "text/plain": [
       "<Figure size 432x288 with 2 Axes>"
      ]
     },
     "metadata": {
      "needs_background": "light"
     },
     "output_type": "display_data"
    }
   ],
   "source": [
    "for dim in [50]:\n",
    "    for wd in [0]:\n",
    "        for lr in [1]:\n",
    "            model = biasMF(data.n_user, data.n_item, embedding_dim=dim, lr=lr, weight_decay=wd, loss=GPR(log_scale=True))\n",
    "            train(model, data, path='checkpoints/GPRlog', name=f'dim={dim}-wd={wd}-lr={lr}')\n",
    "\n",
    "files = {file: float(file.split('loss=')[1][:-5]) for file in os.listdir('checkpoints/GPRlog')}\n",
    "model = biasMF(data.n_user, data.n_item, embedding_dim=1, lr=0, weight_decay=0, loss=GPR(log_scale=True))\n",
    "model = model.load_from_checkpoint(os.path.join('checkpoints/GPRlog', min(files, key=files.get)))\n",
    "test_implicit(model, data, name='GPRlog', max_k=10, use_baseline=False)\n",
    "unc_distribution(model)"
   ]
  },
  {
   "cell_type": "markdown",
   "metadata": {},
   "source": [
    "# DoubleMF"
   ]
  },
  {
   "cell_type": "code",
   "execution_count": 7,
   "metadata": {},
   "outputs": [
    {
     "name": "stderr",
     "output_type": "stream",
     "text": [
      "GPU available: True, used: True\n",
      "TPU available: False, using: 0 TPU cores\n",
      "IPU available: False, using: 0 IPUs\n",
      "/home/vcoscrato/.local/lib/python3.8/site-packages/pytorch_lightning/core/datamodule.py:469: LightningDeprecationWarning: DataModule.setup has already been called, so it will not be called again. In v1.6 this behavior will change to always call DataModule.setup.\n",
      "  rank_zero_deprecation(\n",
      "LOCAL_RANK: 0 - CUDA_VISIBLE_DEVICES: [0]\n",
      "\n",
      "  | Name                | Type      | Params\n",
      "--------------------------------------------------\n",
      "0 | user_embeddings     | Embedding | 301 K \n",
      "1 | item_embeddings     | Embedding | 156 K \n",
      "2 | user_embeddings_rho | Embedding | 301 K \n",
      "3 | item_embeddings_rho | Embedding | 156 K \n",
      "4 | rho_activation      | Softplus  | 0     \n",
      "--------------------------------------------------\n",
      "915 K     Trainable params\n",
      "0         Non-trainable params\n",
      "915 K     Total params\n",
      "3.661     Total estimated model params size (MB)\n"
     ]
    },
    {
     "data": {
      "application/vnd.jupyter.widget-view+json": {
       "model_id": "",
       "version_major": 2,
       "version_minor": 0
      },
      "text/plain": [
       "Validation sanity check: 0it [00:00, ?it/s]"
      ]
     },
     "metadata": {},
     "output_type": "display_data"
    },
    {
     "data": {
      "application/vnd.jupyter.widget-view+json": {
       "model_id": "ac21b18f199b4c0cac8a5d31b0884c77",
       "version_major": 2,
       "version_minor": 0
      },
      "text/plain": [
       "Training: 0it [00:00, ?it/s]"
      ]
     },
     "metadata": {},
     "output_type": "display_data"
    },
    {
     "name": "stderr",
     "output_type": "stream",
     "text": [
      "/home/vcoscrato/.local/lib/python3.8/site-packages/pytorch_lightning/core/datamodule.py:469: LightningDeprecationWarning: DataModule.teardown has already been called, so it will not be called again. In v1.6 this behavior will change to always call DataModule.teardown.\n",
      "  rank_zero_deprecation(\n"
     ]
    },
    {
     "data": {
      "application/vnd.jupyter.widget-view+json": {
       "model_id": "11197a40defc4bf093c2540f04aa0b15",
       "version_major": 2,
       "version_minor": 0
      },
      "text/plain": [
       "  0%|          | 0/1000 [00:00<?, ?it/s]"
      ]
     },
     "metadata": {},
     "output_type": "display_data"
    },
    {
     "data": {
      "image/png": "[encoded data removed]",
      "text/plain": [
       "<Figure size 432x288 with 2 Axes>"
      ]
     },
     "metadata": {
      "needs_background": "light"
     },
     "output_type": "display_data"
    }
   ],
   "source": [
    "for dim in [50]:\n",
    "    for wd in [0]:\n",
    "        for lr in [1]:\n",
    "            model = TwoWayMF(data.n_user, data.n_item, embedding_dim=dim, lr=lr, weight_decay=wd, loss=GPR(log_scale=True))\n",
    "            train(model, data, path='checkpoints/GPRlog_MF', name=f'dim={dim}-wd={wd}-lr={lr}')\n",
    "\n",
    "files = {file: float(file.split('loss=')[1][:-5]) for file in os.listdir('checkpoints/GPRlog_MF')}\n",
    "model = TwoWayMF(data.n_user, data.n_item, embedding_dim=1, lr=0, weight_decay=0, loss=GPR(log_scale=True))\n",
    "model = model.load_from_checkpoint(os.path.join('checkpoints/GPRlog_MF', min(files, key=files.get)))\n",
    "test_implicit(model, data, name='GPRlog_MF', max_k=10, use_baseline=False)\n",
    "unc_distribution(model)"
   ]
  },
  {
   "cell_type": "markdown",
   "metadata": {},
   "source": [
    "# GMF"
   ]
  },
  {
   "cell_type": "code",
   "execution_count": 8,
   "metadata": {},
   "outputs": [
    {
     "name": "stderr",
     "output_type": "stream",
     "text": [
      "GPU available: True, used: True\n",
      "TPU available: False, using: 0 TPU cores\n",
      "IPU available: False, using: 0 IPUs\n",
      "/home/vcoscrato/.local/lib/python3.8/site-packages/pytorch_lightning/core/datamodule.py:469: LightningDeprecationWarning: DataModule.setup has already been called, so it will not be called again. In v1.6 this behavior will change to always call DataModule.setup.\n",
      "  rank_zero_deprecation(\n",
      "LOCAL_RANK: 0 - CUDA_VISIBLE_DEVICES: [0]\n",
      "\n",
      "  | Name            | Type      | Params\n",
      "----------------------------------------------\n",
      "0 | user_embeddings | Embedding | 301 K \n",
      "1 | item_embeddings | Embedding | 156 K \n",
      "2 | linear          | Linear    | 100   \n",
      "3 | rho_activation  | Softplus  | 0     \n",
      "----------------------------------------------\n",
      "457 K     Trainable params\n",
      "0         Non-trainable params\n",
      "457 K     Total params\n",
      "1.831     Total estimated model params size (MB)\n"
     ]
    },
    {
     "data": {
      "application/vnd.jupyter.widget-view+json": {
       "model_id": "",
       "version_major": 2,
       "version_minor": 0
      },
      "text/plain": [
       "Validation sanity check: 0it [00:00, ?it/s]"
      ]
     },
     "metadata": {},
     "output_type": "display_data"
    },
    {
     "data": {
      "application/vnd.jupyter.widget-view+json": {
       "model_id": "bf3dc35494094b9ab53f9c3bc82fb512",
       "version_major": 2,
       "version_minor": 0
      },
      "text/plain": [
       "Training: 0it [00:00, ?it/s]"
      ]
     },
     "metadata": {},
     "output_type": "display_data"
    },
    {
     "name": "stderr",
     "output_type": "stream",
     "text": [
      "Trainer was signaled to stop but required minimum epochs (20) or minimum steps (None) has not been met. Training will continue...\n",
      "Trainer was signaled to stop but required minimum epochs (20) or minimum steps (None) has not been met. Training will continue...\n",
      "/home/vcoscrato/.local/lib/python3.8/site-packages/pytorch_lightning/core/datamodule.py:469: LightningDeprecationWarning: DataModule.teardown has already been called, so it will not be called again. In v1.6 this behavior will change to always call DataModule.teardown.\n",
      "  rank_zero_deprecation(\n"
     ]
    },
    {
     "data": {
      "application/vnd.jupyter.widget-view+json": {
       "model_id": "0b502f08326e4a82b00980805bc63279",
       "version_major": 2,
       "version_minor": 0
      },
      "text/plain": [
       "  0%|          | 0/1000 [00:00<?, ?it/s]"
      ]
     },
     "metadata": {},
     "output_type": "display_data"
    },
    {
     "data": {
      "image/png": "[encoded data removed]",
      "text/plain": [
       "<Figure size 432x288 with 2 Axes>"
      ]
     },
     "metadata": {
      "needs_background": "light"
     },
     "output_type": "display_data"
    }
   ],
   "source": [
    "for dim in [50]:\n",
    "    for wd in [0]:\n",
    "        for lr in [1]:\n",
    "            model = bprGMF(data.n_user, data.n_item, embedding_dim=dim, lr=lr, weight_decay=wd, loss=GPR(log_scale=True))\n",
    "            train(model, data, path='checkpoints/GPRlog_GMF', name=f'dim={dim}-wd={wd}-lr={lr}')\n",
    "\n",
    "files = {file: float(file.split('loss=')[1][:-5]) for file in os.listdir('checkpoints/GPRlog_GMF')}\n",
    "model = bprGMF(data.n_user, data.n_item, embedding_dim=1, lr=0, weight_decay=0, loss=GPR(log_scale=True))\n",
    "model = model.load_from_checkpoint(os.path.join('checkpoints/GPRlog_GMF', min(files, key=files.get)))\n",
    "test_implicit(model, data, name='GPRlog_GMF', max_k=10, use_baseline=False)\n",
    "unc_distribution(model)"
   ]
  },
  {
   "cell_type": "markdown",
   "metadata": {},
   "source": [
    "# Results"
   ]
  },
  {
   "cell_type": "code",
   "execution_count": 9,
   "metadata": {},
   "outputs": [
    {
     "data": {
      "text/html": [
       "<div>\n",
       "<style scoped>\n",
       "    .dataframe tbody tr th:only-of-type {\n",
       "        vertical-align: middle;\n",
       "    }\n",
       "\n",
       "    .dataframe tbody tr th {\n",
       "        vertical-align: top;\n",
       "    }\n",
       "\n",
       "    .dataframe thead th {\n",
       "        text-align: right;\n",
       "    }\n",
       "</style>\n",
       "<table border=\"1\" class=\"dataframe\">\n",
       "  <thead>\n",
       "    <tr style=\"text-align: right;\">\n",
       "      <th></th>\n",
       "      <th>NDCG</th>\n",
       "      <th>RRI</th>\n",
       "      <th>UncertainNDCG</th>\n",
       "    </tr>\n",
       "  </thead>\n",
       "  <tbody>\n",
       "    <tr>\n",
       "      <th>ABPR</th>\n",
       "      <td>0.102350</td>\n",
       "      <td>0.125430</td>\n",
       "      <td>0.101828</td>\n",
       "    </tr>\n",
       "    <tr>\n",
       "      <th>ABPRlog</th>\n",
       "      <td>0.112470</td>\n",
       "      <td>0.091713</td>\n",
       "      <td>0.115746</td>\n",
       "    </tr>\n",
       "    <tr>\n",
       "      <th>Baseline</th>\n",
       "      <td>0.114694</td>\n",
       "      <td>NaN</td>\n",
       "      <td>NaN</td>\n",
       "    </tr>\n",
       "    <tr>\n",
       "      <th>GPR</th>\n",
       "      <td>0.104862</td>\n",
       "      <td>0.120512</td>\n",
       "      <td>0.106920</td>\n",
       "    </tr>\n",
       "    <tr>\n",
       "      <th>GPRlog</th>\n",
       "      <td>0.112496</td>\n",
       "      <td>0.124585</td>\n",
       "      <td>0.118186</td>\n",
       "    </tr>\n",
       "    <tr>\n",
       "      <th>GPRlog GMF</th>\n",
       "      <td>0.119484</td>\n",
       "      <td>-0.332069</td>\n",
       "      <td>0.122427</td>\n",
       "    </tr>\n",
       "    <tr>\n",
       "      <th>GPRlog MF</th>\n",
       "      <td>0.113772</td>\n",
       "      <td>0.050468</td>\n",
       "      <td>0.113550</td>\n",
       "    </tr>\n",
       "  </tbody>\n",
       "</table>\n",
       "</div>"
      ],
      "text/plain": [
       "                NDCG       RRI  UncertainNDCG\n",
       "ABPR        0.102350  0.125430       0.101828\n",
       "ABPRlog     0.112470  0.091713       0.115746\n",
       "Baseline    0.114694       NaN            NaN\n",
       "GPR         0.104862  0.120512       0.106920\n",
       "GPRlog      0.112496  0.124585       0.118186\n",
       "GPRlog GMF  0.119484 -0.332069       0.122427\n",
       "GPRlog MF   0.113772  0.050468       0.113550"
      ]
     },
     "execution_count": 9,
     "metadata": {},
     "output_type": "execute_result"
    }
   ],
   "source": [
    "results = {}\n",
    "for key in os.listdir('results'):\n",
    "    results[key.replace('.pkl', '').replace('_', ' ')] = pickle.load(open(os.path.join('results', key), 'rb'))\n",
    "results = dict(sorted(results.items()))\n",
    "NDCG = [results[a]['accuracy']['NDCG'][-1] for a in results]\n",
    "RRI = [results[a]['uncertainty']['RRI'][-1] if 'PR' in a else np.NaN for a in results]\n",
    "UncertainNDCG = [results[a]['uncertain_accuracy']['NDCG'][-1] if 'PR' in a else np.NaN for a in results]\n",
    "interesting_stuff = pd.DataFrame({'NDCG': NDCG, 'RRI': RRI, 'UncertainNDCG': UncertainNDCG}, index=results)\n",
    "interesting_stuff"
   ]
  }
 ],
 "metadata": {
  "kernelspec": {
   "display_name": "Python 3",
   "language": "python",
   "name": "python3"
  },
  "language_info": {
   "codemirror_mode": {
    "name": "ipython",
    "version": 3
   },
   "file_extension": ".py",
   "mimetype": "text/x-python",
   "name": "python",
   "nbconvert_exporter": "python",
   "pygments_lexer": "ipython3",
   "version": "3.8.10"
  }
 },
 "nbformat": 4,
 "nbformat_minor": 4
}
